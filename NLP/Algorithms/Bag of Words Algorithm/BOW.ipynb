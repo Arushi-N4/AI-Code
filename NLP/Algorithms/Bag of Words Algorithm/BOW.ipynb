{
 "cells": [
  {
   "cell_type": "markdown",
   "id": "551f470b",
   "metadata": {},
   "source": [
    "*  Bag-Of-Words(BoW) algorithm converts a piece of text into a numerical representation, disregarding grammar  and word order but keeping multiplicity.\n",
    "\n",
    "*  It is a technique used in Natural Language Processing (NLP) to represent text data. It involves:\n",
    "1. **Tokenization** Breaking down text into individual words or terms (tokens).\n",
    "2. **Counting:** Counting the frequency of each word in the text.\n",
    "3. **Vectorization:** Representing the text as a numerical vector, where each dimension corresponds to a word, and the value represents its frequency in the document."
   ]
  },
  {
   "cell_type": "markdown",
   "id": "a8b7fd5e",
   "metadata": {},
   "source": [
    "# Import libraries\n"
   ]
  },
  {
   "cell_type": "code",
   "execution_count": 1,
   "id": "2036a527",
   "metadata": {},
   "outputs": [
    {
     "name": "stdout",
     "output_type": "stream",
     "text": [
      "Requirement already satisfied: scikit-learn in c:\\users\\r p nirala\\anaconda3\\lib\\site-packages (1.3.0)\n",
      "Requirement already satisfied: numpy>=1.17.3 in c:\\users\\r p nirala\\anaconda3\\lib\\site-packages (from scikit-learn) (1.24.3)\n",
      "Requirement already satisfied: scipy>=1.5.0 in c:\\users\\r p nirala\\anaconda3\\lib\\site-packages (from scikit-learn) (1.11.1)\n",
      "Requirement already satisfied: joblib>=1.1.1 in c:\\users\\r p nirala\\anaconda3\\lib\\site-packages (from scikit-learn) (1.2.0)\n",
      "Requirement already satisfied: threadpoolctl>=2.0.0 in c:\\users\\r p nirala\\anaconda3\\lib\\site-packages (from scikit-learn) (2.2.0)\n",
      "Note: you may need to restart the kernel to use updated packages.\n"
     ]
    }
   ],
   "source": [
    "pip install scikit-learn     "
   ]
  },
  {
   "cell_type": "code",
   "execution_count": 3,
   "id": "12e188e8",
   "metadata": {},
   "outputs": [],
   "source": [
    "import re\n",
    "import pandas as pd\n",
    "from sklearn.feature_extraction.text import CountVectorizer,TfidfTransformer\n"
   ]
  },
  {
   "cell_type": "markdown",
   "id": "9f7873b9",
   "metadata": {},
   "source": [
    "# Data Collection"
   ]
  },
  {
   "cell_type": "code",
   "execution_count": 4,
   "id": "ce86ff4d",
   "metadata": {},
   "outputs": [],
   "source": [
    "data = [\n",
    "    'Fashion is an art form and expression.',\n",
    "    'Style is a way to say who you are without having to speak.',\n",
    "    'Fashion is what you buy, style is what you do with it.',\n",
    "    'With fashion, you convey a message about yourself without uttering a single word'\n",
    "]"
   ]
  },
  {
   "cell_type": "markdown",
   "id": "552694ee",
   "metadata": {},
   "source": [
    "# Text prepocessing"
   ]
  },
  {
   "cell_type": "code",
   "execution_count": 5,
   "id": "9419d4cb",
   "metadata": {},
   "outputs": [
    {
     "name": "stdout",
     "output_type": "stream",
     "text": [
      "Data 1: fashion is an art form and expression\n",
      "Data 2: style is a way to say who you are without having to speak\n",
      "Data 3: fashion is what you buy style is what you do with it\n",
      "Data 4: with fashion you convey a message about yourself without uttering a single word\n"
     ]
    }
   ],
   "source": [
    "def preprocess_text(text):\n",
    "    text = text.lower()\n",
    "    text = re.sub(r'[^a-z\\s]', '',text)\n",
    "    return text\n",
    "\n",
    "preprocessed_data = [preprocess_text(doc) for doc in data]\n",
    "\n",
    "for i, doc in enumerate(preprocessed_data, 1):\n",
    "    print(f\"Data {i}: {doc}\")"
   ]
  },
  {
   "cell_type": "code",
   "execution_count": 6,
   "id": "30062dee",
   "metadata": {},
   "outputs": [
    {
     "name": "stdout",
     "output_type": "stream",
     "text": [
      "['art' 'buy' 'convey' 'expression' 'fashion' 'form' 'having' 'message'\n",
      " 'say' 'single' 'speak' 'style' 'uttering' 'way' 'word']\n"
     ]
    }
   ],
   "source": [
    "# removing words like \"the\", \"is\", \"are\", \"and\" as they usually do not carry much useful information for the analysis.\n",
    "vectorizer = CountVectorizer(stop_words='english')\n",
    "\n",
    "X=vectorizer.fit_transform(preprocessed_data)\n",
    "\n",
    "Word=vectorizer.get_feature_names_out()\n",
    "print(Word)\n"
   ]
  },
  {
   "cell_type": "markdown",
   "id": "2f029492",
   "metadata": {},
   "source": [
    "# BoW representation"
   ]
  },
  {
   "cell_type": "code",
   "execution_count": 7,
   "id": "7b6ac16e",
   "metadata": {
    "scrolled": true
   },
   "outputs": [
    {
     "name": "stdout",
     "output_type": "stream",
     "text": [
      "        art  buy  convey  expression  fashion  form  having  message  say  \\\n",
      "Data 1    1    0       0           1        1     1       0        0    0   \n",
      "Data 2    0    0       0           0        0     0       1        0    1   \n",
      "Data 3    0    1       0           0        1     0       0        0    0   \n",
      "Data 4    0    0       1           0        1     0       0        1    0   \n",
      "\n",
      "        single  speak  style  uttering  way  word  \n",
      "Data 1       0      0      0         0    0     0  \n",
      "Data 2       0      1      1         0    1     0  \n",
      "Data 3       0      0      1         0    0     0  \n",
      "Data 4       1      0      0         1    0     1  \n"
     ]
    }
   ],
   "source": [
    "bow_df = pd.DataFrame(X.toarray(),columns=Word)\n",
    "\n",
    "bow_df.index =[f'Data {i}' for i in range(1, len(data) + 1)]\n",
    "print(bow_df)"
   ]
  },
  {
   "cell_type": "markdown",
   "id": "75b4bf5c",
   "metadata": {},
   "source": [
    "# Calculate TF-IDF"
   ]
  },
  {
   "cell_type": "markdown",
   "id": "269a59c3",
   "metadata": {},
   "source": [
    "TF-IDF (Term Frequency-Inverse Document Frequency) is a numerical statistic that is intended to reflect how important a word is to a document in a collection.\n",
    "\n",
    "\n",
    "* **Term Frequency(TF):** This measures how frequently a term (word) appears in a document. \n",
    "* **Inverse Document Frequency (IDF):** This measures how important a term is across the entire corpus (collection of documents).\n"
   ]
  },
  {
   "cell_type": "code",
   "execution_count": 8,
   "id": "03a068a8",
   "metadata": {
    "scrolled": true
   },
   "outputs": [
    {
     "name": "stdout",
     "output_type": "stream",
     "text": [
      "TF-IDF value:\n",
      "             art       buy    convey  expression   fashion      form  \\\n",
      "Data 1  0.541736  0.000000  0.000000    0.541736  0.345783  0.541736   \n",
      "Data 2  0.000000  0.000000  0.000000    0.000000  0.000000  0.000000   \n",
      "Data 3  0.000000  0.702035  0.000000    0.000000  0.448100  0.000000   \n",
      "Data 4  0.000000  0.000000  0.430037    0.000000  0.274487  0.000000   \n",
      "\n",
      "          having   message       say    single     speak     style  uttering  \\\n",
      "Data 1  0.000000  0.000000  0.000000  0.000000  0.000000  0.000000  0.000000   \n",
      "Data 2  0.465162  0.000000  0.465162  0.000000  0.465162  0.366739  0.000000   \n",
      "Data 3  0.000000  0.000000  0.000000  0.000000  0.000000  0.553492  0.000000   \n",
      "Data 4  0.000000  0.430037  0.000000  0.430037  0.000000  0.000000  0.430037   \n",
      "\n",
      "             way      word  \n",
      "Data 1  0.000000  0.000000  \n",
      "Data 2  0.465162  0.000000  \n",
      "Data 3  0.000000  0.000000  \n",
      "Data 4  0.000000  0.430037  \n"
     ]
    }
   ],
   "source": [
    "tfidf_transformer = TfidfTransformer()\n",
    "X_tfidf=tfidf_transformer.fit_transform(X)\n",
    "\n",
    "tfidf_df=pd.DataFrame(X_tfidf.toarray(), columns=Word)\n",
    "\n",
    "tfidf_df.index=[f'Data {i}' for i in range(1, len(data) + 1)]\n",
    "\n",
    "print(\"TF-IDF value:\")\n",
    "print(tfidf_df)"
   ]
  },
  {
   "cell_type": "code",
   "execution_count": null,
   "id": "f1c23250",
   "metadata": {},
   "outputs": [],
   "source": [
    "\n"
   ]
  },
  {
   "cell_type": "code",
   "execution_count": null,
   "id": "76edbedb",
   "metadata": {},
   "outputs": [],
   "source": []
  }
 ],
 "metadata": {
  "kernelspec": {
   "display_name": "Python 3 (ipykernel)",
   "language": "python",
   "name": "python3"
  },
  "language_info": {
   "codemirror_mode": {
    "name": "ipython",
    "version": 3
   },
   "file_extension": ".py",
   "mimetype": "text/x-python",
   "name": "python",
   "nbconvert_exporter": "python",
   "pygments_lexer": "ipython3",
   "version": "3.11.5"
  }
 },
 "nbformat": 4,
 "nbformat_minor": 5
}
